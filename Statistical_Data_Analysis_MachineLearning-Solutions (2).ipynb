{
 "cells": [
  {
   "cell_type": "markdown",
   "metadata": {
    "collapsed": false
   },
   "source": [
    "# Statistical Data Analysis: Machine Learning Assignment\n",
    "\n",
    "# SOLUTIONS\n",
    "\n",
    "- Statistical Data Analysis (SPA6328)\n",
    "- Academic Year: 2020-2021\n",
    "- Module Organiser: Dr Seth Zenz\n",
    "- Module Associate: Prof Adrian Bevan\n",
    "\n",
    "Copyright (C) Queen Mary University of London\n",
    "\n",
    "## This assessment is for summative feedback.\n",
    "\n",
    "In this assignment you will analyse the iris data using decision tree based classifiers.  Specifically we are using the AdaBoost decision tree.  Each decision tree by itself is considered a weak learner, and the AdaBoost computes an output based on a collection of trees. This weighted averaging process leads to a more robust machine learning algorithm (i.e. one that is more robust in that its outputs on new unseen data samples should be similar to that used for testing and training, and that overtraining issues are reduced).  The process also results in what is called a strong learner - one that has a stronger separation between different categories of event than would be the case with a single tree, or indeed the individual features that are input into that tree.\n",
    "\n",
    "By now you should be very familiar with the iris data, both in terms of the 1D and 2D information, and what you can learn from the 1D distributions in terms of the ability to separate the three different types of iris from each other.  Here we take the next step to use a machine learning algorithm to simultaneously benefit from the 4-dimensional feature space to separate signal from background.\n",
    "\n",
    "## Task\n",
    "\n",
    "Train a classifier using the iris data and study the performance characteristics of this classifier in detail by working through this notebook.\n",
    "You should:\n",
    "- Work through the Iris data decision tree classification example in order to answer the following questions\n",
    "  - Using a train split of 0.5. Explore the effect of (a) changing the number of estimators, and (b) changing the tree depth, on the performance of the classifier. For this exercise tabulate results for including 10, 100, 500 and 1000 estimators (i.e. boosting iterations) and for tree depths of 1, 2, 3.  Measure performance by the fraction of mis-classified test examples.\n",
    "  - Repeat the above using a train split of 0.8.\n",
    "  - What is the configuration that leads to the least number of mis-classified examples.\n",
    "  - Why do you think, in detail, that any residual example(s) are mis-classified by the algorithm. If there are no-mis-classified examples, then does that concern you with regard to the use of this algorithm and the sample sizes used for train and test. You may wish to reflect on the earlier formative assignments and the notes to guide your response to this question.\n",
    "  - Reflect on the results you obtained for the train split size. Remark on any differences in performance that you observe.\n"
   ]
  },
  {
   "cell_type": "code",
   "execution_count": 23,
   "metadata": {
    "collapsed": false
   },
   "outputs": [
    {
     "name": "stdout",
     "output_type": "stream",
     "text": [
      "\u001b[1mLoad the sklearn Iris data\u001b[0m\n",
      "\n",
      "Iris data have been split into test and train samples\n",
      "\tN(train)             =  120\n",
      "\tN(test)              =  30\n",
      "\tTrain split          =  0.8\n",
      "\tnumber_of_estimators =  10\n",
      "\ttree_depth           =  3\n",
      "\tmin_leaf_size        =  1\n",
      "\u001b[1mFit the decision tree\u001b[0m\n",
      "... now compute the decision tree score\n",
      "\n",
      "Decision Tree Classifier Score is:\n",
      "\tTrain Score =  1.0  (This measure of performance is biased)\n",
      "\tTest Score  = 1.0000\n",
      "\tNumber of mis-classified test data = 0.0, fraction of mis-classified examples = 0.000\n",
      "\n",
      "\u001b[1mStudy the test data\u001b[0m\n",
      "\n",
      "confusion matrix (test) = \n",
      " [[11  0  0]\n",
      " [ 0 13  0]\n",
      " [ 0  0  6]]\n"
     ]
    },
    {
     "data": {
      "image/png": "[encoded data removed]",
      "text/plain": [
       "<Figure size 864x504 with 2 Axes>"
      ]
     },
     "execution_count": 23,
     "metadata": {
      "image/png": {
       "height": 411,
       "width": 638
      },
      "needs_background": "light"
     },
     "output_type": "execute_result"
    },
    {
     "name": "stdout",
     "output_type": "stream",
     "text": [
      "Truth\tPrediction\tP(type = 1)\tP(type = 2)\tP(type = 3)\tCorrect Prediction\n",
      "2\t2\t0.0000\t0.0000\t1.0000\tTrue\n",
      "1\t1\t0.0000\t1.0000\t0.0000\tTrue\n",
      "0\t0\t1.0000\t0.0000\t0.0000\tTrue\n",
      "2\t2\t0.0000\t0.0000\t1.0000\tTrue\n",
      "0\t0\t1.0000\t0.0000\t0.0000\tTrue\n",
      "2\t2\t0.0000\t0.0000\t1.0000\tTrue\n",
      "0\t0\t1.0000\t0.0000\t0.0000\tTrue\n",
      "1\t1\t0.0000\t1.0000\t0.0000\tTrue\n",
      "1\t1\t0.0000\t1.0000\t0.0000\tTrue\n",
      "1\t1\t0.0000\t1.0000\t0.0000\tTrue\n",
      "2\t2\t0.0000\t0.0000\t1.0000\tTrue\n",
      "1\t1\t0.0000\t1.0000\t0.0000\tTrue\n",
      "1\t1\t0.0000\t1.0000\t0.0000\tTrue\n",
      "1\t1\t0.0000\t1.0000\t0.0000\tTrue\n",
      "1\t1\t0.0000\t1.0000\t0.0000\tTrue\n",
      "0\t0\t1.0000\t0.0000\t0.0000\tTrue\n",
      "1\t1\t0.0000\t1.0000\t0.0000\tTrue\n",
      "1\t1\t0.0000\t1.0000\t0.0000\tTrue\n",
      "0\t0\t1.0000\t0.0000\t0.0000\tTrue\n",
      "0\t0\t1.0000\t0.0000\t0.0000\tTrue\n",
      "2\t2\t0.0000\t0.0000\t1.0000\tTrue\n",
      "1\t1\t0.0000\t1.0000\t0.0000\tTrue\n",
      "0\t0\t1.0000\t0.0000\t0.0000\tTrue\n",
      "0\t0\t1.0000\t0.0000\t0.0000\tTrue\n",
      "2\t2\t0.0000\t0.0000\t1.0000\tTrue\n",
      "0\t0\t1.0000\t0.0000\t0.0000\tTrue\n",
      "0\t0\t1.0000\t0.0000\t0.0000\tTrue\n",
      "1\t1\t0.0000\t1.0000\t0.0000\tTrue\n",
      "1\t1\t0.0000\t1.0000\t0.0000\tTrue\n",
      "0\t0\t1.0000\t0.0000\t0.0000\tTrue\n"
     ]
    }
   ],
   "source": [
    "import numpy as np\n",
    "import matplotlib.pyplot as plt\n",
    "from sklearn.datasets import load_iris\n",
    "#\n",
    "# If having studied the iris data you wish to (not assessed) explore a larger data set, then the \n",
    "# NIST handwriting data (numbers 0, 1, 2, ... 9) can be loaded using load_digits. To use this one\n",
    "# needs to change n_classes to 10.\n",
    "#\n",
    "# Uncomment the following line to import the load_digits function\n",
    "#\n",
    "#from sklearn.datasets import load_digits\n",
    "from sklearn.model_selection import train_test_split\n",
    "from sklearn.tree import DecisionTreeClassifier\n",
    "from sklearn.ensemble import AdaBoostClassifier\n",
    "from sklearn.metrics import confusion_matrix\n",
    "import seaborn as sns\n",
    "\n",
    "# Parameters\n",
    "n_classes = 3\n",
    "plot_colors = \"ryb\"\n",
    "train_split_size = 0.8     # the fraction of examples used for training\n",
    "number_of_estimators = 10 # the number of boosting iterations\n",
    "tree_depth    = 3          # number of divisions of data\n",
    "min_leaf_size = 1          # minimum number of examples in a leaf\n",
    "\n",
    "# Load data\n",
    "print(\"\\033[1mLoad the sklearn Iris data\\033[0m\\n\")\n",
    "iris = load_iris()\n",
    "\n",
    "# split the data into test and train samples. The train sample will be used to learn\n",
    "# the model, and the test sample will be used to evaluate module performance.\n",
    "X_train, X_test, y_train, y_test = train_test_split(iris.data, iris.target, random_state=0, train_size=train_split_size)\n",
    "print(\"Iris data have been split into test and train samples\")\n",
    "print(\"\\tN(train)             = \", len(X_train))\n",
    "print(\"\\tN(test)              = \", len(X_test))\n",
    "print(\"\\tTrain split          = \", train_split_size)\n",
    "print(\"\\tnumber_of_estimators = \", number_of_estimators)\n",
    "print(\"\\ttree_depth           = \", tree_depth)\n",
    "print(\"\\tmin_leaf_size        = \", min_leaf_size)\n",
    "\n",
    "\n",
    "print(\"\\033[1mFit the decision tree\\033[0m\")\n",
    "DT_clf  = DecisionTreeClassifier(max_depth=tree_depth, min_samples_leaf=min_leaf_size)\n",
    "BDT_clf = AdaBoostClassifier(base_estimator=DT_clf, n_estimators=number_of_estimators).fit(X_train, y_train)\n",
    "\n",
    "print(\"... now compute the decision tree score\")\n",
    "train_score = BDT_clf.score(X_train, y_train)\n",
    "test_score  = BDT_clf.score(X_test, y_test)\n",
    "\n",
    "print(\"\\nDecision Tree Classifier Score is:\")\n",
    "print(\"\\tTrain Score = \", train_score, \" (This measure of performance is biased)\")\n",
    "print(\"\\tTest Score  = {:5.4f}\".format(test_score))\n",
    "n_misclassified = (1-test_score)*len(X_test)\n",
    "print(\"\\tNumber of mis-classified test data = {:2.1f}, fraction of mis-classified examples = {:4.3f}\".format(n_misclassified, 1-test_score ))\n",
    "\n",
    "\n",
    "#\n",
    "# Use the test data to compute a confusion matrix and to compare predictions against\n",
    "# the ground truth labels.\n",
    "#\n",
    "print(\"\\n\\033[1mStudy the test data\\033[0m\")\n",
    "predictions = BDT_clf.predict(X_test)\n",
    "prob_predictions = BDT_clf.predict_proba(X_test)\n",
    "BDTcm = confusion_matrix(y_test, predictions)\n",
    "print(\"\\nconfusion matrix (test) = \\n\", BDTcm)\n",
    "sns.heatmap(BDTcm, center=True)\n",
    "plt.show()\n",
    "\n",
    "#\n",
    "# Compare the ground truth and model prediction\n",
    "#\n",
    "print(\"Truth\\tPrediction\\tP(type = 1)\\tP(type = 2)\\tP(type = 3)\\tCorrect Prediction\")\n",
    "for i in range(len(predictions)):\n",
    "    Match = False\n",
    "    if predictions[i] == y_test[i]:\n",
    "        Match = True\n",
    "    print(\"{:}\\t{:}\\t{:5.4f}\\t{:5.4f}\\t{:5.4f}\\t{:}\".format(y_test[i], predictions[i], prob_predictions[i][0], prob_predictions[i][1], prob_predictions[i][2], Match))\n",
    "\n"
   ]
  },
  {
   "cell_type": "markdown",
   "metadata": {
    "collapsed": false
   },
   "source": [
    "---------------------------\n",
    "## Solution\n",
    "\n",
    "Table exploring the effect of (a) changing the number of estimators, and (b) changing the tree depth, on the performance of the classifer. For this exercise tabulate results for including 10, 100, 500 and 1000 estimators (i.e. boosting iterations) and for tree depths of 1, 2, 3.  Measure performance by the fraction of mis-classified test examples.\n",
    "\n",
    "\n",
    "----------------\n",
    "Test split = 0.5\n",
    "| Tree Depth  | 10 iter  | 100 iter  | 500 iter  | 1000 iter |\n",
    "| ----------- | -------- | --------- | --------- | --------- |\n",
    "| 1           | 0.080    | 0.080     | 0.080     | 0.080     |\n",
    "| 2           | 0.040    | 0.040     | 0.133     | 0.040     |\n",
    "| 3           | 0.040    | 0.040     | 0.040     | 0.040     |\n",
    "\n",
    "----------------\n",
    "Test split = 0.8\n",
    "| Tree Depth  | 10 iter  | 100 iter  | 500 iter  | 1000 iter |\n",
    "| ----------- | -------- | --------- | --------- | --------- |\n",
    "| 1           | 0.033    | 0.100     | 0.100     | 0.100     |\n",
    "| 2           | 0.000    | 0.033     | 0.000     | 0.000     |\n",
    "| 3           | 0.000    | 0.033     | 0.033     | 0.033     |\n",
    "\n",
    "\n",
    "From the results obtained State the least number of mis-classified examples:\n",
    "\n",
    "   **min(N-misclassified) = 0**\n",
    "\n",
    "Reflect on this outcome\n",
    "\n",
    "   **With a train split of 0.5 there are 75 training examples, with a 0.8 fraction there are 120 training examples. These are small numbers of data.  It is possible to perfectly classify the data using the decision tree approach with these limited samples, however this algorithm has a potential for overtraining to occur.  The perfect classification could be related to having overtrained the trees.  To test that one would want to do further study, and/or have a larger data sample.**\n",
    "\n"
   ]
  },
  {
   "cell_type": "code",
   "execution_count": 0,
   "metadata": {
    "collapsed": false
   },
   "outputs": [
   ],
   "source": [
   ]
  }
 ],
 "metadata": {
  "kernelspec": {
   "display_name": "Python 3 (Ubuntu Linux)",
   "language": "python",
   "name": "python3-ubuntu"
  },
  "language_info": {
   "codemirror_mode": {
    "name": "ipython",
    "version": 3
   },
   "file_extension": ".py",
   "mimetype": "text/x-python",
   "name": "python",
   "nbconvert_exporter": "python",
   "pygments_lexer": "ipython3",
   "version": "3.8.2"
  }
 },
 "nbformat": 4,
 "nbformat_minor": 4
}